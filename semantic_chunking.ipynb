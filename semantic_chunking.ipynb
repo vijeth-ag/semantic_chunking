{
 "cells": [
  {
   "cell_type": "code",
   "execution_count": null,
   "id": "99366617-2f1a-40e4-8554-e2abf853af19",
   "metadata": {},
   "outputs": [],
   "source": [
    "!pip install sentence-transformers"
   ]
  },
  {
   "cell_type": "code",
   "execution_count": 45,
   "id": "20e8cc06-5b70-4e33-ba88-0ac66a831359",
   "metadata": {},
   "outputs": [],
   "source": [
    "import numpy as np\n",
    "import re\n",
    "from langchain.embeddings import HuggingFaceEmbeddings\n",
    "from sklearn.metrics.pairwise import cosine_similarity"
   ]
  },
  {
   "cell_type": "code",
   "execution_count": 5,
   "id": "42efdb85-d53e-4d7b-ba9d-a9b220a5afad",
   "metadata": {},
   "outputs": [],
   "source": [
    "text = \" With numbers another important property which comes is they can be of three kinds so they can be used in three different ways. They can be nominal, they can be ordinal or cardinal. Nominal means for namesake that is I can name and instead of naming people like Ram, Shriam, Gita all of those things we could have named them 1, 2, 3, 4. I mean in olden days people used to have lot of children so who would remember the names let's give them numbers 1, 2, 3, 4, 5. Ordinal means there is some order. So certain numbers in certain places they denote order. For example the rank in class, your roll number in class it doesn't really have a meaning in terms of counting. We are not really counting students. It has meaning in terms of order. Cardinal numbers are our normal numbers which are used for counting. So nominal example would be Virat Kholi his t-shirt is 18. Dhoni his t-shirt number is 7. That 7 and 18 are just names they are for namesake. They don't really mean anything. Order I already told you an example rank 1st, 2nd and 3rd. Cardinal we have several examples. Normal use of mathematics is with cardinal numbers. With this let's move on to the very important topic. Next very important topic which is place value and face value. Understanding place value and face value is very important for understanding the numeric systems. The number systems that we are using. The thing here is let's say that we know that the numbers are used for counting. So if I have a single pencil or a single stick of wood I would say that I have 1. So I would say I have 1 stick of wood. That's what I would count. The counting then progresses. So I have 1 then 2, 3, 4, 5, 6, 7, 8, 9 sticks of wood. So until 9 I have devised different symbols. So I say 1 to 9 I have devised different symbols for counting these numbers. After 9 if I have an additional if I get an additional stick of wood I create a bundle out of it. Right. So now in this bundle I have 10 sticks of wood. So instead of writing this 10 instead of devising a new symbol for it. Right. What the way I write this 10 is I move this one one digit right or one space to the left and then I put 0 right after it. So this 0 is just a placeholder. Instead of writing this 0 I could have simply written 1 dash that would have worked as well. The only thing here is to indicate that this 1 is not sitting here in the 1s place or the units place. But it is sitting here in the 10s place. Right. The position of this 1 has become significant. It has really become important. Where I write this 1 is important. This 1 and this 1 although they look the same. This 1 the 1 to the left is 10 times bigger than the 1 to the right. So this number here is 10 times. It is multiplied by 10. That is the important thing in understanding the place value. The most important thing. Similarly, right. Now I have a bundle of sticks. Each bundle has 10 such sticks. I collect 10 such bundles. How many sticks now do I have? I have 100 sticks. So I repeat the same process. I move this one one place to the left and I put a 0 here. And this becomes a 100. So again I am using the same digit. The digit remains the same 1. Its value changes. So this 1 has 2 kinds. It has 2 values associated with it. 1 is the face value. Which is the value of 1 itself. Which always remains 1. The value of 2 always remains 2. No matter which position it occupies. So this 1, this 1 and this 1. They all have the same face value. They all have a face value of 1. Place value is the value of the number by virtue of its position. So because the position of this 1 has changed. It has moved to the left. And I have put zeros in front of it. Each such move has made its place value increase by 10 times. Right. So the value from 1 it changed to 10. And then it changed to 100. So that is the place value. The value of 1 because of its place. So let's try to find out the place value and face value of numbers here. The place value is, the face value is of course 1, 1, 2, 2. It is just the value by looking at the face of the number. Just by looking at the face. Don't take the position into account at all. Then we look at the place value. This is 1 simply. 1 itself. It's in the units position or ones position. This one is in tens position. So it may look like a simple one, but it's not 1. It's indeed 10. It's 10 times bigger. This 2 is in hundreds position. So it might look like a simple 2, but it's really 200. And similarly, this 2 is 2000. So this is similar to what happens to us, right? When we are moving from one class to the next, the same person with the same face would move from, let's say, class 3 to class 4. So the face remains the same. The person remains the same. But its position in the school has not changed. He was in class 3. Now he has become bigger. He has become stronger. He has become more intelligent. Perhaps he knows more. And then he has come to class 4. So his position has become stronger. So each move makes your position stronger. Your face, of course, would remain the same. Hopefully. This is the basic concept of the place value and face value. And remember the zeros that we put here, the zeros affixed here are for notational purpose only. I could have, indeed, in some number systems people use dash. In some other number systems people simply use blank boxes, right? So the zeros here that I put after the number are for notational purpose only. Now if we have a number system where position is significant, right? So in the decimal system that we have seen so far, we have said that the place value depends upon the position. So the position becomes important in those cases. Then there must be number systems where the position is not important. And of course there are. So ancient Egyptian was one such great example. They had non-positional number system where the position of the numbers did not matter. So how they did it? They had a symbol for 1. They had a symbol for 10. So notice here that they are also counting by 10s. So each digit, right? If you call this a digit or let's call it a symbol. Each symbol has increased its value by 10 times. So each subsequent symbol is 10 times bigger than the previous symbol. And they used to make numbers by combining a number, right? These symbols in a certain way. So for example, if I have to make number 4622, the way I would do it is, I would take 4000s. So I would repeat this symbol for this 1000 4 times. Then I would repeat this symbol for 100 6 times. And then I would repeat this symbol for 10 2 times. And the symbol for 1 2 times. Then that's how the number 4622 would be formed. Notice that position is not at all important. This number is 4622. And if I move this to the top, right? The 1000s. If I move them to the top, the number is still remains 4622. So the position was not important in this system. And it's a great example of non-positional number system.\""
   ]
  },
  {
   "cell_type": "code",
   "execution_count": 17,
   "id": "22536cc4-c288-486c-803c-03a29c739e71",
   "metadata": {},
   "outputs": [],
   "source": [
    "def split_to_sentences(text):\n",
    "    sentences = re.split(r'(?<=[.])\\s+', text)\n",
    "    return sentences"
   ]
  },
  {
   "cell_type": "code",
   "execution_count": 51,
   "id": "c6a5160c-26b9-47e8-982c-5082b56af0cd",
   "metadata": {},
   "outputs": [],
   "source": [
    "text_sentences = split_to_sentences(text)"
   ]
  },
  {
   "cell_type": "code",
   "execution_count": 33,
   "id": "1581f481-b135-4f53-a32f-6752f33962db",
   "metadata": {},
   "outputs": [
    {
     "name": "stderr",
     "output_type": "stream",
     "text": [
      "/var/folders/lm/x0n0qhz55jq8sbtvvzpkqj2m0000gn/T/ipykernel_86805/3991914916.py:1: LangChainDeprecationWarning: The class `HuggingFaceEmbeddings` was deprecated in LangChain 0.2.2 and will be removed in 1.0. An updated version of the class exists in the :class:`~langchain-huggingface package and should be used instead. To use it run `pip install -U :class:`~langchain-huggingface` and import as `from :class:`~langchain_huggingface import HuggingFaceEmbeddings``.\n",
      "  embeddings = HuggingFaceEmbeddings(model_name=\"BAAI/bge-large-en-v1.5\")\n"
     ]
    },
    {
     "data": {
      "application/vnd.jupyter.widget-view+json": {
       "model_id": "cec95bfaf40847a1819b23b244d85e5c",
       "version_major": 2,
       "version_minor": 0
      },
      "text/plain": [
       "modules.json:   0%|          | 0.00/349 [00:00<?, ?B/s]"
      ]
     },
     "metadata": {},
     "output_type": "display_data"
    },
    {
     "data": {
      "application/vnd.jupyter.widget-view+json": {
       "model_id": "bf67402563254c64994de598c06f15fd",
       "version_major": 2,
       "version_minor": 0
      },
      "text/plain": [
       "config_sentence_transformers.json:   0%|          | 0.00/124 [00:00<?, ?B/s]"
      ]
     },
     "metadata": {},
     "output_type": "display_data"
    },
    {
     "data": {
      "application/vnd.jupyter.widget-view+json": {
       "model_id": "e1d0deaf5c7a4244a8d396f530ead25a",
       "version_major": 2,
       "version_minor": 0
      },
      "text/plain": [
       "README.md:   0%|          | 0.00/94.6k [00:00<?, ?B/s]"
      ]
     },
     "metadata": {},
     "output_type": "display_data"
    },
    {
     "data": {
      "application/vnd.jupyter.widget-view+json": {
       "model_id": "c26b49b1a3a148c1ae22512ccb71a901",
       "version_major": 2,
       "version_minor": 0
      },
      "text/plain": [
       "sentence_bert_config.json:   0%|          | 0.00/52.0 [00:00<?, ?B/s]"
      ]
     },
     "metadata": {},
     "output_type": "display_data"
    },
    {
     "data": {
      "application/vnd.jupyter.widget-view+json": {
       "model_id": "224ec0f5b94e4e43884d61b8a02d41fa",
       "version_major": 2,
       "version_minor": 0
      },
      "text/plain": [
       "config.json:   0%|          | 0.00/779 [00:00<?, ?B/s]"
      ]
     },
     "metadata": {},
     "output_type": "display_data"
    },
    {
     "data": {
      "application/vnd.jupyter.widget-view+json": {
       "model_id": "b0fbcfab223b46bfab639e3b6661a37d",
       "version_major": 2,
       "version_minor": 0
      },
      "text/plain": [
       "model.safetensors:   0%|          | 0.00/1.34G [00:00<?, ?B/s]"
      ]
     },
     "metadata": {},
     "output_type": "display_data"
    },
    {
     "data": {
      "application/vnd.jupyter.widget-view+json": {
       "model_id": "44b8408de5f147a398c43fb8b20c8d70",
       "version_major": 2,
       "version_minor": 0
      },
      "text/plain": [
       "tokenizer_config.json:   0%|          | 0.00/366 [00:00<?, ?B/s]"
      ]
     },
     "metadata": {},
     "output_type": "display_data"
    },
    {
     "data": {
      "application/vnd.jupyter.widget-view+json": {
       "model_id": "35e7b2a8c20e459584380203275ae507",
       "version_major": 2,
       "version_minor": 0
      },
      "text/plain": [
       "vocab.txt:   0%|          | 0.00/232k [00:00<?, ?B/s]"
      ]
     },
     "metadata": {},
     "output_type": "display_data"
    },
    {
     "data": {
      "application/vnd.jupyter.widget-view+json": {
       "model_id": "e73e6ef699a84adabe44c20aea8c4312",
       "version_major": 2,
       "version_minor": 0
      },
      "text/plain": [
       "tokenizer.json:   0%|          | 0.00/711k [00:00<?, ?B/s]"
      ]
     },
     "metadata": {},
     "output_type": "display_data"
    },
    {
     "data": {
      "application/vnd.jupyter.widget-view+json": {
       "model_id": "b6b2731a714a4af1ac726acda975c0df",
       "version_major": 2,
       "version_minor": 0
      },
      "text/plain": [
       "special_tokens_map.json:   0%|          | 0.00/125 [00:00<?, ?B/s]"
      ]
     },
     "metadata": {},
     "output_type": "display_data"
    },
    {
     "data": {
      "application/vnd.jupyter.widget-view+json": {
       "model_id": "63b1886f10ae4128b392fb338710aa09",
       "version_major": 2,
       "version_minor": 0
      },
      "text/plain": [
       "1_Pooling/config.json:   0%|          | 0.00/191 [00:00<?, ?B/s]"
      ]
     },
     "metadata": {},
     "output_type": "display_data"
    }
   ],
   "source": [
    "embeddings = HuggingFaceEmbeddings(model_name=\"BAAI/bge-large-en-v1.5\")"
   ]
  },
  {
   "cell_type": "code",
   "execution_count": 41,
   "id": "5be5c144-4166-40dd-a314-41c04e4b7da0",
   "metadata": {},
   "outputs": [
    {
     "data": {
      "text/plain": [
       "1024"
      ]
     },
     "execution_count": 41,
     "metadata": {},
     "output_type": "execute_result"
    }
   ],
   "source": [
    "len(embeddings.embed_query(\"number system\"))"
   ]
  },
  {
   "cell_type": "code",
   "execution_count": 55,
   "id": "c14353b2-5ee2-461d-bb13-99c0dd714709",
   "metadata": {},
   "outputs": [],
   "source": [
    "def create_semantic_chunks(sentences):\n",
    "    sen_embeddings = [np.array(embeddings.embed_query(sentence)).reshape(1,-1) for sentence in sentences]\n",
    "    semantic_chunks = []\n",
    "    for i in range(len(sentences)):\n",
    "        if i == 0:\n",
    "            semantic_chunks.append([sentences[i]])\n",
    "        else:\n",
    "            similarity = cosine_similarity(sen_embeddings[i-1], sen_embeddings[i])\n",
    "            if similarity[0][0] > 0.5:\n",
    "                semantic_chunks[-1].append(sentences[i])\n",
    "            else:\n",
    "                semantic_chunks.append([sentences[i]])\n",
    "    return semantic_chunks"
   ]
  },
  {
   "cell_type": "code",
   "execution_count": 59,
   "id": "44d823a6-529c-4bd4-9cae-ffa823be0825",
   "metadata": {},
   "outputs": [],
   "source": [
    "sem_chunks = create_semantic_chunks(text_sentences)"
   ]
  },
  {
   "cell_type": "code",
   "execution_count": 61,
   "id": "4529eeb5-8f9a-4385-8dc4-b65ab4bef120",
   "metadata": {},
   "outputs": [
    {
     "data": {
      "text/plain": [
       "23"
      ]
     },
     "execution_count": 61,
     "metadata": {},
     "output_type": "execute_result"
    }
   ],
   "source": [
    "len(sem_chunks)"
   ]
  },
  {
   "cell_type": "code",
   "execution_count": 71,
   "id": "7ccae467-c267-4200-a32d-023ddd692e50",
   "metadata": {},
   "outputs": [
    {
     "data": {
      "text/plain": [
       "[[' With numbers another important property which comes is they can be of three kinds so they can be used in three different ways.',\n",
       "  'They can be nominal, they can be ordinal or cardinal.',\n",
       "  'Nominal means for namesake that is I can name and instead of naming people like Ram, Shriam, Gita all of those things we could have named them 1, 2, 3, 4.',\n",
       "  \"I mean in olden days people used to have lot of children so who would remember the names let's give them numbers 1, 2, 3, 4, 5.\",\n",
       "  'Ordinal means there is some order.',\n",
       "  'So certain numbers in certain places they denote order.',\n",
       "  \"For example the rank in class, your roll number in class it doesn't really have a meaning in terms of counting.\",\n",
       "  'We are not really counting students.',\n",
       "  'It has meaning in terms of order.',\n",
       "  'Cardinal numbers are our normal numbers which are used for counting.'],\n",
       " ['So nominal example would be Virat Kholi his t-shirt is 18.',\n",
       "  'Dhoni his t-shirt number is 7.',\n",
       "  'That 7 and 18 are just names they are for namesake.',\n",
       "  \"They don't really mean anything.\"],\n",
       " ['Order I already told you an example rank 1st, 2nd and 3rd.',\n",
       "  'Cardinal we have several examples.',\n",
       "  'Normal use of mathematics is with cardinal numbers.'],\n",
       " [\"With this let's move on to the very important topic.\",\n",
       "  'Next very important topic which is place value and face value.',\n",
       "  'Understanding place value and face value is very important for understanding the numeric systems.',\n",
       "  'The number systems that we are using.',\n",
       "  \"The thing here is let's say that we know that the numbers are used for counting.\",\n",
       "  'So if I have a single pencil or a single stick of wood I would say that I have 1.',\n",
       "  'So I would say I have 1 stick of wood.',\n",
       "  \"That's what I would count.\",\n",
       "  'The counting then progresses.',\n",
       "  'So I have 1 then 2, 3, 4, 5, 6, 7, 8, 9 sticks of wood.',\n",
       "  'So until 9 I have devised different symbols.',\n",
       "  'So I say 1 to 9 I have devised different symbols for counting these numbers.',\n",
       "  'After 9 if I have an additional if I get an additional stick of wood I create a bundle out of it.'],\n",
       " ['Right.'],\n",
       " ['So now in this bundle I have 10 sticks of wood.',\n",
       "  'So instead of writing this 10 instead of devising a new symbol for it.'],\n",
       " ['Right.'],\n",
       " ['What the way I write this 10 is I move this one one digit right or one space to the left and then I put 0 right after it.',\n",
       "  'So this 0 is just a placeholder.',\n",
       "  'Instead of writing this 0 I could have simply written 1 dash that would have worked as well.',\n",
       "  'The only thing here is to indicate that this 1 is not sitting here in the 1s place or the units place.',\n",
       "  'But it is sitting here in the 10s place.',\n",
       "  'Right.',\n",
       "  'The position of this 1 has become significant.',\n",
       "  'It has really become important.',\n",
       "  'Where I write this 1 is important.',\n",
       "  'This 1 and this 1 although they look the same.',\n",
       "  'This 1 the 1 to the left is 10 times bigger than the 1 to the right.',\n",
       "  'So this number here is 10 times.',\n",
       "  'It is multiplied by 10.',\n",
       "  'That is the important thing in understanding the place value.',\n",
       "  'The most important thing.'],\n",
       " ['Similarly, right.'],\n",
       " ['Now I have a bundle of sticks.',\n",
       "  'Each bundle has 10 such sticks.',\n",
       "  'I collect 10 such bundles.',\n",
       "  'How many sticks now do I have? I have 100 sticks.'],\n",
       " ['So I repeat the same process.',\n",
       "  'I move this one one place to the left and I put a 0 here.',\n",
       "  'And this becomes a 100.',\n",
       "  'So again I am using the same digit.',\n",
       "  'The digit remains the same 1.',\n",
       "  'Its value changes.',\n",
       "  'So this 1 has 2 kinds.',\n",
       "  'It has 2 values associated with it.',\n",
       "  '1 is the face value.',\n",
       "  'Which is the value of 1 itself.',\n",
       "  'Which always remains 1.',\n",
       "  'The value of 2 always remains 2.',\n",
       "  'No matter which position it occupies.',\n",
       "  'So this 1, this 1 and this 1.',\n",
       "  'They all have the same face value.',\n",
       "  'They all have a face value of 1.',\n",
       "  'Place value is the value of the number by virtue of its position.',\n",
       "  'So because the position of this 1 has changed.',\n",
       "  'It has moved to the left.',\n",
       "  'And I have put zeros in front of it.',\n",
       "  'Each such move has made its place value increase by 10 times.'],\n",
       " ['Right.',\n",
       "  'So the value from 1 it changed to 10.',\n",
       "  'And then it changed to 100.',\n",
       "  'So that is the place value.',\n",
       "  'The value of 1 because of its place.',\n",
       "  \"So let's try to find out the place value and face value of numbers here.\",\n",
       "  'The place value is, the face value is of course 1, 1, 2, 2.',\n",
       "  'It is just the value by looking at the face of the number.',\n",
       "  'Just by looking at the face.'],\n",
       " [\"Don't take the position into account at all.\",\n",
       "  'Then we look at the place value.',\n",
       "  'This is 1 simply.',\n",
       "  '1 itself.',\n",
       "  \"It's in the units position or ones position.\",\n",
       "  'This one is in tens position.',\n",
       "  \"So it may look like a simple one, but it's not 1.\",\n",
       "  \"It's indeed 10.\",\n",
       "  \"It's 10 times bigger.\",\n",
       "  'This 2 is in hundreds position.',\n",
       "  \"So it might look like a simple 2, but it's really 200.\",\n",
       "  'And similarly, this 2 is 2000.',\n",
       "  \"So this is similar to what happens to us, right? When we are moving from one class to the next, the same person with the same face would move from, let's say, class 3 to class 4.\",\n",
       "  'So the face remains the same.',\n",
       "  'The person remains the same.',\n",
       "  'But its position in the school has not changed.',\n",
       "  'He was in class 3.',\n",
       "  'Now he has become bigger.',\n",
       "  'He has become stronger.',\n",
       "  'He has become more intelligent.',\n",
       "  'Perhaps he knows more.',\n",
       "  'And then he has come to class 4.',\n",
       "  'So his position has become stronger.',\n",
       "  'So each move makes your position stronger.'],\n",
       " ['Your face, of course, would remain the same.'],\n",
       " ['Hopefully.'],\n",
       " ['This is the basic concept of the place value and face value.',\n",
       "  'And remember the zeros that we put here, the zeros affixed here are for notational purpose only.'],\n",
       " ['I could have, indeed, in some number systems people use dash.',\n",
       "  'In some other number systems people simply use blank boxes, right? So the zeros here that I put after the number are for notational purpose only.',\n",
       "  'Now if we have a number system where position is significant, right? So in the decimal system that we have seen so far, we have said that the place value depends upon the position.',\n",
       "  'So the position becomes important in those cases.',\n",
       "  'Then there must be number systems where the position is not important.'],\n",
       " ['And of course there are.'],\n",
       " ['So ancient Egyptian was one such great example.'],\n",
       " ['They had non-positional number system where the position of the numbers did not matter.',\n",
       "  'So how they did it? They had a symbol for 1.',\n",
       "  'They had a symbol for 10.',\n",
       "  'So notice here that they are also counting by 10s.',\n",
       "  \"So each digit, right? If you call this a digit or let's call it a symbol.\",\n",
       "  'Each symbol has increased its value by 10 times.',\n",
       "  'So each subsequent symbol is 10 times bigger than the previous symbol.',\n",
       "  'And they used to make numbers by combining a number, right? These symbols in a certain way.',\n",
       "  'So for example, if I have to make number 4622, the way I would do it is, I would take 4000s.',\n",
       "  'So I would repeat this symbol for this 1000 4 times.',\n",
       "  'Then I would repeat this symbol for 100 6 times.',\n",
       "  'And then I would repeat this symbol for 10 2 times.',\n",
       "  'And the symbol for 1 2 times.',\n",
       "  \"Then that's how the number 4622 would be formed.\"],\n",
       " ['Notice that position is not at all important.'],\n",
       " ['This number is 4622.',\n",
       "  'And if I move this to the top, right? The 1000s.',\n",
       "  'If I move them to the top, the number is still remains 4622.'],\n",
       " ['So the position was not important in this system.',\n",
       "  \"And it's a great example of non-positional number system.\"]]"
      ]
     },
     "execution_count": 71,
     "metadata": {},
     "output_type": "execute_result"
    }
   ],
   "source": [
    "sem_chunks"
   ]
  },
  {
   "cell_type": "code",
   "execution_count": null,
   "id": "e2b8136e-f5f0-4b57-a2b9-bc09b6384fe3",
   "metadata": {},
   "outputs": [],
   "source": []
  }
 ],
 "metadata": {
  "kernelspec": {
   "display_name": "Python 3 (ipykernel)",
   "language": "python",
   "name": "python3"
  },
  "language_info": {
   "codemirror_mode": {
    "name": "ipython",
    "version": 3
   },
   "file_extension": ".py",
   "mimetype": "text/x-python",
   "name": "python",
   "nbconvert_exporter": "python",
   "pygments_lexer": "ipython3",
   "version": "3.12.4"
  }
 },
 "nbformat": 4,
 "nbformat_minor": 5
}
